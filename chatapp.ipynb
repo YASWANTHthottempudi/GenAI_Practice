{
 "cells": [
  {
   "cell_type": "code",
   "execution_count": null,
   "id": "dae09168",
   "metadata": {},
   "outputs": [],
   "source": [
    "import os\n",
    "from dotenv import load_dotenv \n",
    "load_dotenv()\n",
    "\n",
    "groq_api_key = os.getenv(\"GROQ_API_KEY\")\n",
    "print(\"Groq API key loaded successfully\" if groq_api_key else \"Warning: GROQ_API_KEY not found in environment variables\")"
   ]
  },
  {
   "cell_type": "code",
   "execution_count": null,
   "id": "0ddf2e46",
   "metadata": {},
   "outputs": [],
   "source": [
    "from langchain_groq import ChatGroq\n",
    "\n",
    "model = ChatGroq(\n",
    "    model_name=\"Gemma2-9b-it\",\n",
    "    groq_api_key=groq_api_key,\n",
    ")\n",
    "model"
   ]
  },
  {
   "cell_type": "code",
   "execution_count": null,
   "id": "af20cc03",
   "metadata": {},
   "outputs": [],
   "source": [
    "from langchain_core.messages import HumanMessage\n",
    "\n",
    "model.invoke([HumanMessage(content=\"Hello, I am an AI Engineer\")])"
   ]
  },
  {
   "cell_type": "code",
   "execution_count": null,
   "id": "9d02a22f",
   "metadata": {},
   "outputs": [],
   "source": [
    "from langchain_core.messages import AIMessage\n",
    "\n",
    "model.invoke([HumanMessage(content=\"Hello, I am an AI Engineer\"),\n",
    " AIMessage(content=\"Hello,Yash Its nice to meet you, what do you do as an AI Engineer?\"),\n",
    " HumanMessage(content=\"Whats my name and what do i do\")])"
   ]
  },
  {
   "cell_type": "code",
   "execution_count": null,
   "id": "fa74dde4",
   "metadata": {},
   "outputs": [],
   "source": [
    "from langchain_community.chat_message_histories import ChatMessageHistory\n",
    "from langchain_core.chat_history import BaseChatMessageHistory\n",
    "from langchain_core.runnables.history import RunnableWithMessageHistory\n",
    "\n",
    "store = {}\n",
    "\n",
    "def get_session_history(session_id)->BaseChatMessageHistory:\n",
    "    if session_id not in store:\n",
    "        store[session_id] = ChatMessageHistory()\n",
    "    return store[session_id]\n",
    "\n",
    "with_message_history = RunnableWithMessageHistory(model, get_session_history)\n",
    "config = {\"configurable\": {\"session_id\": \"chat1\"}}"
   ]
  },
  {
   "cell_type": "code",
   "execution_count": null,
   "id": "2c450ecd",
   "metadata": {},
   "outputs": [],
   "source": [
    "response = with_message_history.invoke([HumanMessage(content=\"Hello, I am Yash working as an AI Engineer\")], config=config)\n",
    "response.content"
   ]
  },
  {
   "cell_type": "code",
   "execution_count": null,
   "id": "f4413f4a",
   "metadata": {},
   "outputs": [],
   "source": [
    "from langchain_core.prompts import ChatPromptTemplate,MessagesPlaceholder\n",
    "\n",
    "# Create a dynamic prompt template that accepts language as input\n",
    "prompt = ChatPromptTemplate.from_messages([\n",
    "    (\"system\", \"You are a helpful assistant, answer questions to best of your ability in {language}\"),\n",
    "    MessagesPlaceholder(variable_name=\"messages\")\n",
    "])\n",
    "\n",
    "# Create a chain that accepts both messages and language\n",
    "chain = prompt | model"
   ]
  },
  {
   "cell_type": "code",
   "execution_count": null,
   "id": "bb44b4e2",
   "metadata": {},
   "outputs": [],
   "source": [
    "# Test the chain directly with language parameter\n",
    "chain.invoke({\n",
    "    \"messages\": [HumanMessage(content=\"Hello, I am Yash working as an AI Engineer\")],\n",
    "    \"language\": \"Telugu\"\n",
    "})"
   ]
  },
  {
   "cell_type": "code",
   "execution_count": null,
   "id": "00db42b3",
   "metadata": {},
   "outputs": [],
   "source": [
    "# Create a function to handle language-specific conversations\n",
    "def create_language_chain(language):\n",
    "    \"\"\"Create a chain with a specific language\"\"\"\n",
    "    language_prompt = ChatPromptTemplate.from_messages([\n",
    "        (\"system\", f\"You are a helpful assistant, answer questions to best of your ability in {language}\"),\n",
    "        MessagesPlaceholder(variable_name=\"messages\")\n",
    "    ])\n",
    "    return language_prompt | model\n",
    "\n",
    "# Create chains for different languages\n",
    "telugu_chain = create_language_chain(\"Telugu\")\n",
    "english_chain = create_language_chain(\"English\")\n",
    "\n",
    "# Create with_message_history for each language\n",
    "telugu_with_history = RunnableWithMessageHistory(telugu_chain, get_session_history)\n",
    "english_with_history = RunnableWithMessageHistory(english_chain, get_session_history)"
   ]
  },
  {
   "cell_type": "code",
   "execution_count": null,
   "id": "944efa9c",
   "metadata": {},
   "outputs": [],
   "source": [
    "# Using Telugu chain with message history\n",
    "response = telugu_with_history.invoke(\n",
    "    {\"messages\": [HumanMessage(content=\"Hello, I am Yash working as an AI Engineer\")]}, \n",
    "    config={\"configurable\": {\"session_id\": \"telugu_session\"}}\n",
    ")\n",
    "response.content"
   ]
  },
  {
   "cell_type": "code",
   "execution_count": null,
   "id": "89defeda",
   "metadata": {},
   "outputs": [],
   "source": [
    "# Example: Using different languages\n",
    "# English response\n",
    "response_en = english_with_history.invoke(\n",
    "    {\"messages\": [HumanMessage(content=\"What is artificial intelligence?\")]}, \n",
    "    config={\"configurable\": {\"session_id\": \"english_session\"}}\n",
    ")\n",
    "print(\"English Response:\", response_en.content)\n",
    "\n",
    "# Telugu response  \n",
    "response_te = telugu_with_history.invoke(\n",
    "    {\"messages\": [HumanMessage(content=\"What is artificial intelligence?\")]}, \n",
    "    config={\"configurable\": {\"session_id\": \"telugu_session_2\"}}\n",
    ")\n",
    "print(\"Telugu Response:\", response_te.content)"
   ]
  },
  {
   "cell_type": "code",
   "execution_count": null,
   "id": "7491f77c",
   "metadata": {},
   "outputs": [],
   "source": [
    "# Function to create a language-specific chat with history\n",
    "def chat_in_language(language, message, session_id=None):\n",
    "    \"\"\"\n",
    "    Create a chat response in the specified language\n",
    "    \n",
    "    Args:\n",
    "        language: The language for responses (e.g., \"Telugu\", \"English\", \"Hindi\")\n",
    "        message: The user's message\n",
    "        session_id: Optional session ID for conversation history\n",
    "    \"\"\"\n",
    "    if session_id is None:\n",
    "        session_id = f\"{language.lower()}_session\"\n",
    "    \n",
    "    # Create chain for this language\n",
    "    lang_chain = create_language_chain(language)\n",
    "    lang_with_history = RunnableWithMessageHistory(lang_chain, get_session_history)\n",
    "    \n",
    "    # Get response\n",
    "    response = lang_with_history.invoke(\n",
    "        {\"messages\": [HumanMessage(content=message)]}, \n",
    "        config={\"configurable\": {\"session_id\": session_id}}\n",
    "    )\n",
    "    \n",
    "    return response.content\n",
    "\n",
    "# Example usage:\n",
    "print(\"Telugu Response:\")\n",
    "print(chat_in_language(\"Telugu\", \"Hello, how are you?\", \"test_telugu\"))\n",
    "\n",
    "print(\"\\nEnglish Response:\")\n",
    "print(chat_in_language(\"English\", \"Hello, how are you?\", \"test_english\"))\n",
    "\n",
    "print(\"\\nHindi Response:\")\n",
    "print(chat_in_language(\"Hindi\", \"Hello, how are you?\", \"test_hindi\"))"
   ]
  },
  {
   "cell_type": "code",
   "execution_count": null,
   "id": "02588aee",
   "metadata": {},
   "outputs": [],
   "source": [
    "from langchain_core.messages import SystemMessage, trim_messages\n",
    "\n",
    "trimmer = trim_messages(\n",
    "    max_tokens=100,\n",
    "    strategy= \"last\",\n",
    "    token_counter = model,\n",
    "    include_system=True,\n",
    "    allow_partial=False,\n",
    "    start_on=\"human\"\n",
    ")\n",
    "\n",
    "messages = [\n",
    "    SystemMessage(content=\"You are a helpful assistant that provides friendly advice about food and desserts.\"),\n",
    "    \n",
    "    HumanMessage(content=\"Hi! I'm craving something sweet. What do you suggest?\"),\n",
    "    \n",
    "    AIMessage(content=\"How about treating yourself to some ice cream? It's a classic and always hits the spot.\"),\n",
    "    \n",
    "    HumanMessage(content=\"That sounds perfect! Any flavor you recommend?\"),\n",
    "    \n",
    "    AIMessage(content=\"Vanilla is always a safe bet, but if you're feeling adventurous, try salted caramel or pistachio.\"),\n",
    "    \n",
    "    HumanMessage(content=\"Where can I buy good ice cream nearby?\"),\n",
    "    \n",
    "    AIMessage(content=\"You can check out your local grocery store, or look for artisanal ice cream shops in your area. Yelp or Google Maps can help!\"),\n",
    "    \n",
    "    HumanMessage(content=\"Thanks! I'll head out now and get some.\"),\n",
    "    \n",
    "    AIMessage(content=\"Enjoy your ice cream! Let me know if you need anything else.\")\n",
    "]\n",
    "\n",
    "trimmer.invoke(messages)"
   ]
  },
  {
   "cell_type": "code",
   "execution_count": null,
   "id": "297ddba2",
   "metadata": {},
   "outputs": [],
   "source": [
    "from operator import itemgetter\n",
    "\n",
    "from langchain_core.runnables import RunnablePassthrough\n",
    "\n",
    "chain =(\n",
    "    RunnablePassthrough.assign(\n",
    "        messages = itemgetter(\"messages\")|trimmer\n",
    "    ) | prompt | model\n",
    ")\n",
    "\n",
    "response = chain.invoke({\"messages\": messages+[HumanMessage(content=\"What is artificial intelligence?\")], \"language\": \"Telugu\"})\n",
    "response.content"
   ]
  },
  {
   "cell_type": "code",
   "execution_count": null,
   "id": "83d483b8",
   "metadata": {},
   "outputs": [],
   "source": [
    "import os\n",
    "from dotenv import load_dotenv\n",
    "load_dotenv()\n",
    "from langchain_groq import ChatGroq\n",
    "\n",
    "groq_api_key = os.getenv(\"GROQ_API_KEY\")\n",
    "os.environ[\"HF_TOKEN\"] = os.getenv(\"HF_TOKEN\")\n",
    "llama_model = ChatGroq(\n",
    "    model_name=\"Llama3-8b-8192\",\n",
    "    groq_api_key=groq_api_key,\n",
    ")\n",
    "llama_model"
   ]
  },
  {
   "cell_type": "code",
   "execution_count": null,
   "id": "f1a3ec99",
   "metadata": {},
   "outputs": [],
   "source": [
    "from langchain_core.documents import Document\n",
    "\n",
    "# Create dummy documents for testing\n",
    "documents = [\n",
    "    Document(\n",
    "        page_content=\"Artificial Intelligence (AI) is a branch of computer science that aims to create machines capable of intelligent behavior. It involves developing algorithms and systems that can perform tasks typically requiring human intelligence, such as learning, reasoning, and problem-solving.\",\n",
    "        metadata={\"source\": \"ai_basics.txt\", \"topic\": \"AI Introduction\", \"difficulty\": \"beginner\"}\n",
    "    ),\n",
    "    Document(\n",
    "        page_content=\"Machine Learning is a subset of AI that focuses on algorithms that can learn and improve from experience without being explicitly programmed. It uses statistical techniques to enable computers to learn from data and make predictions or decisions.\",\n",
    "        metadata={\"source\": \"ml_basics.txt\", \"topic\": \"Machine Learning\", \"difficulty\": \"intermediate\"}\n",
    "    ),\n",
    "    Document(\n",
    "        page_content=\"Deep Learning is a subset of machine learning that uses artificial neural networks with multiple layers to model and understand complex patterns in data. It has been particularly successful in image recognition, natural language processing, and speech recognition.\",\n",
    "        metadata={\"source\": \"dl_basics.txt\", \"topic\": \"Deep Learning\", \"difficulty\": \"advanced\"}\n",
    "    ),\n",
    "    Document(\n",
    "        page_content=\"Natural Language Processing (NLP) is a field of AI that focuses on the interaction between computers and humans through natural language. It involves developing systems that can understand, interpret, and generate human language in a valuable way.\",\n",
    "        metadata={\"source\": \"nlp_basics.txt\", \"topic\": \"NLP\", \"difficulty\": \"intermediate\"}\n",
    "    ),\n",
    "    Document(\n",
    "        page_content=\"Computer Vision is a field of AI that trains computers to interpret and understand the visual world. Using digital images from cameras and videos and deep learning models, machines can accurately identify and classify objects and react to what they see.\",\n",
    "        metadata={\"source\": \"cv_basics.txt\", \"topic\": \"Computer Vision\", \"difficulty\": \"intermediate\"}\n",
    "    ),\n",
    "    Document(\n",
    "        page_content=\"Python is a high-level programming language that is widely used in AI and machine learning development. It has a simple syntax and a large ecosystem of libraries like TensorFlow, PyTorch, and scikit-learn that make it ideal for AI projects.\",\n",
    "        metadata={\"source\": \"python_ai.txt\", \"topic\": \"Programming\", \"difficulty\": \"beginner\"}\n",
    "    ),\n",
    "    Document(\n",
    "        page_content=\"TensorFlow is an open-source machine learning framework developed by Google. It provides a comprehensive ecosystem of tools, libraries, and community resources that lets researchers and developers build and deploy ML applications.\",\n",
    "        metadata={\"source\": \"tensorflow.txt\", \"topic\": \"Frameworks\", \"difficulty\": \"intermediate\"}\n",
    "    ),\n",
    "    Document(\n",
    "        page_content=\"PyTorch is an open-source machine learning library based on the Torch library. It's known for its dynamic computational graph and is widely used in research and production for deep learning applications.\",\n",
    "        metadata={\"source\": \"pytorch.txt\", \"topic\": \"Frameworks\", \"difficulty\": \"intermediate\"}\n",
    "    ),\n",
    "    Document(\n",
    "        page_content=\"Data preprocessing is a crucial step in machine learning that involves cleaning and transforming raw data into a format that can be used by machine learning algorithms. This includes handling missing values, encoding categorical variables, and scaling features.\",\n",
    "        metadata={\"source\": \"data_preprocessing.txt\", \"topic\": \"Data Science\", \"difficulty\": \"beginner\"}\n",
    "    ),\n",
    "    Document(\n",
    "        page_content=\"Neural networks are computing systems inspired by biological neural networks. They consist of interconnected nodes (neurons) that process information using a connectionist approach to computation, learning to perform tasks by considering examples.\",\n",
    "        metadata={\"source\": \"neural_networks.txt\", \"topic\": \"Neural Networks\", \"difficulty\": \"intermediate\"}\n",
    "    )\n",
    "]\n",
    "\n",
    "print(f\"Created {len(documents)} dummy documents\")\n",
    "for i, doc in enumerate(documents):\n",
    "    print(f\"Document {i+1}: {doc.metadata['topic']} - {doc.metadata['difficulty']}\")"
   ]
  },
  {
   "cell_type": "code",
   "execution_count": null,
   "id": "63951c0b",
   "metadata": {},
   "outputs": [],
   "source": [
    "from langchain_huggingface import HuggingFaceEmbeddings\n",
    "\n",
    "# Create embeddings\n",
    "embeddings = HuggingFaceEmbeddings(\n",
    "    model_name=\"all-MiniLM-L6-v2\"\n",
    ")\n",
    "print(\"Embeddings model loaded successfully\")"
   ]
  },
  {
   "cell_type": "code",
   "execution_count": null,
   "id": "40452011",
   "metadata": {},
   "outputs": [],
   "source": [
    "from langchain_chroma import Chroma\n",
    "\n",
    "vector_store = Chroma.from_documents(documents, embedding=embeddings)\n",
    "print(f\"Vector store created with {vector_store._collection.count()} documents\")"
   ]
  },
  {
   "cell_type": "code",
   "execution_count": null,
   "id": "2a097ca7",
   "metadata": {},
   "outputs": [],
   "source": [
    "retriever = vector_store.as_retriever(\n",
    "    search_type=\"similarity_score_threshold\",\n",
    "    search_kwargs={\"score_threshold\": 0.5}\n",
    ")\n",
    "\n",
    "# Test retrieval\n",
    "results = retriever.batch([\"NLP\", \"Machine Learning\"])\n",
    "print(f\"Retrieved {len(results[0])} documents for 'NLP' query\")\n",
    "print(f\"Retrieved {len(results[1])} documents for 'Machine Learning' query\")"
   ]
  }
 ],
 "metadata": {
  "kernelspec": {
   "display_name": "Python 3",
   "language": "python",
   "name": "python3"
  },
  "language_info": {
   "codemirror_mode": {
    "name": "ipython",
    "version": 3
   },
   "file_extension": ".py",
   "mimetype": "text/x-python",
   "name": "python",
   "nbconvert_exporter": "python",
   "pygments_lexer": "ipython3",
   "version": "3.12.0"
  }
 },
 "nbformat": 4,
 "nbformat_minor": 5
}